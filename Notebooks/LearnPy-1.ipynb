{
 "cells": [
  {
   "cell_type": "code",
   "execution_count": 1,
   "metadata": {},
   "outputs": [],
   "source": [
    "class Circle:\n",
    "    pi = 3.14\n",
    "\n",
    "    def __init__(self,radius=1):\n",
    "        print(\"Circle Created\")\n",
    "        self.radius = radius\n",
    "        self.area = Circle.pi * self.radius * self.radius\n",
    "\n",
    "    def get_circumference(self):\n",
    "        return 2 * Circle.pi * self.radius"
   ]
  },
  {
   "cell_type": "code",
   "execution_count": 2,
   "metadata": {},
   "outputs": [],
   "source": [
    "class Dog:\n",
    "    species = \"mammal\"\n",
    "    def __init__(self, breed, name, spots):\n",
    "        print(\"Dog Created\")\n",
    "        self.breed = breed\n",
    "        self.name = name\n",
    "        self.spots = spots\n",
    "    \n",
    "    # Methods\n",
    "    def bark(self, number):\n",
    "        print(\"My name is {} and {}\".format(self.name, number))"
   ]
  },
  {
   "cell_type": "code",
   "execution_count": 3,
   "metadata": {},
   "outputs": [],
   "source": [
    "# Inheritance\n",
    "class Inherited(Dog):\n",
    "\n",
    "    def __init__(self, breed, name, spots):\n",
    "        Dog.__init__(self, breed, name, spots)\n",
    "        print(\"Inheritance Class created\")\n",
    "\n",
    "    #rewrite a method\n",
    "    def bark(self):\n",
    "        print(\"WOOF\")\n",
    "\n",
    "    #create new method\n",
    "    def new_bark(self):\n",
    "        Dog.bark(self, 4)\n",
    "        print(\"WOOF\")"
   ]
  },
  {
   "cell_type": "code",
   "execution_count": 4,
   "metadata": {},
   "outputs": [
    {
     "name": "stdout",
     "output_type": "stream",
     "text": [
      "Dog Created\n",
      "My name is Frankie and 3\n"
     ]
    }
   ],
   "source": [
    "myDog = Dog(breed='Lab', name='Frankie', spots=False)\n",
    "myDog.bark(3)"
   ]
  },
  {
   "cell_type": "code",
   "execution_count": 5,
   "metadata": {},
   "outputs": [
    {
     "name": "stdout",
     "output_type": "stream",
     "text": [
      "Circle Created\n",
      "Area :  452.15999999999997\n",
      "Circumference :  75.36\n"
     ]
    }
   ],
   "source": [
    "myCircle = Circle(12)\n",
    "print(\"Area : \", myCircle.area)\n",
    "print(\"Circumference : \", myCircle.get_circumference())"
   ]
  },
  {
   "cell_type": "code",
   "execution_count": 7,
   "metadata": {},
   "outputs": [
    {
     "name": "stdout",
     "output_type": "stream",
     "text": [
      "Dog Created\n",
      "Inheritance Class created\n",
      "WOOF\n",
      "My name is Ricky and 4\n",
      "WOOF\n"
     ]
    }
   ],
   "source": [
    "myInhDog = Inherited('Alsatian', name='Ricky', spots=False)\n",
    "myInhDog.bark()\n",
    "myInhDog.new_bark()"
   ]
  },
  {
   "cell_type": "code",
   "execution_count": null,
   "metadata": {},
   "outputs": [],
   "source": []
  }
 ],
 "metadata": {
  "kernelspec": {
   "display_name": "Python 3.9.7 ('pydev')",
   "language": "python",
   "name": "python3"
  },
  "language_info": {
   "codemirror_mode": {
    "name": "ipython",
    "version": 3
   },
   "file_extension": ".py",
   "mimetype": "text/x-python",
   "name": "python",
   "nbconvert_exporter": "python",
   "pygments_lexer": "ipython3",
   "version": "3.9.7"
  },
  "orig_nbformat": 4,
  "vscode": {
   "interpreter": {
    "hash": "5d68fb8e3eb3ad39a38554280520afb3a59fd8dfcf3c819fb9d1bf433f0d7963"
   }
  }
 },
 "nbformat": 4,
 "nbformat_minor": 2
}
