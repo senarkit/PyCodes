{
 "cells": [
  {
   "cell_type": "markdown",
   "metadata": {},
   "source": [
    "### Libraries"
   ]
  },
  {
   "cell_type": "code",
   "execution_count": null,
   "metadata": {},
   "outputs": [],
   "source": [
    "import pandas as pd\n",
    "import warnings\n",
    "import numpy as np\n",
    "import matplotlib.pyplot as plt\n",
    "warnings.filterwarnings('ignore')\n",
    "from matplotlib.pylab import rcParams\n",
    "rcParams['figure.figsize'] = 15, 6\n",
    "import seaborn as sns\n",
    "import warnings\n",
    "warnings.filterwarnings(\"ignore\")\n",
    "import os\n",
    "import statsmodels.api as sm\n",
    "from pandas.tseries.offsets import DateOffset\n",
    "\n",
    "# Changing Current Directory\n",
    "print('Current Working Directory : ',os.getcwd())\n",
    "if str(os.getcwd()).split(\"/\")[-1] != \"DrOetkar - SARIMAX\":\n",
    "    os.chdir(\"../Projects/DrOetkar - SARIMAX/\")\n",
    "    print('Changed to : ',os.getcwd())"
   ]
  },
  {
   "cell_type": "markdown",
   "metadata": {},
   "source": [
    "### Prepare Dataset"
   ]
  },
  {
   "cell_type": "code",
   "execution_count": null,
   "metadata": {},
   "outputs": [],
   "source": [
    "df=pd.read_excel('sales2.xlsx')\n",
    "\n",
    "# Create week var\n",
    "df[\"Order Date\"] = pd.to_datetime(df[\"Order Date\"])\n",
    "df[\"week_nu\"] = df[\"Order Date\"].dt.year.astype(str) + 'W' + df['Week'].astype(str)\n",
    "\n",
    "sumdf=pd.DataFrame(df.groupby([\"Description\", \"week_nu\"]).agg({'Order Date':'last', 'QTY':'sum'}).reset_index())\n",
    "sumdf = sumdf.sort_values(by=['Description','Order Date'], ascending=True)\n",
    "df_head = sumdf.set_index('Order Date').copy()\n",
    "\n",
    "# Transposed DS for later use\n",
    "df_head_trans = pd.pivot_table(df_head, values ='QTY', index =['Description'],\n",
    "                         columns =['week_nu'], aggfunc = np.sum)\n",
    "\n",
    "\n",
    "#passed other tests and defined - ADF, PACF, ACF ; p,d,q\n",
    "# Filter for SKU -  Pasta Pizza Sauce 325g\n",
    "df_head=df_head.loc[df_head['Description']=='Pasta Pizza Sauce 325g']\n",
    "print(df_head.Description.value_counts())"
   ]
  },
  {
   "cell_type": "markdown",
   "metadata": {},
   "source": [
    "### Prepare Model"
   ]
  },
  {
   "cell_type": "markdown",
   "metadata": {},
   "source": [
    "#### Testing on train"
   ]
  },
  {
   "cell_type": "code",
   "execution_count": null,
   "metadata": {},
   "outputs": [],
   "source": [
    "# List of items\n",
    "sku_list = df_head.Description.unique()\n",
    "df_forecast = pd.DataFrame([])\n",
    "\n",
    "for i in sku_list:\n",
    "    # Create a folder for graphs\n",
    "    if not os.path.exists('Graphs'):\n",
    "        os.makedirs('Graphs')\n",
    "\n",
    "    ### Common Part\n",
    "    df_sku = df_head.loc[df_head.Description==i, :]\n",
    "    model=sm.tsa.statespace.SARIMAX(df_sku['QTY'], order=(1, 1, 1),seasonal_order=(1,1,1,12))\n",
    "    results=model.fit()\n",
    "    \n",
    "    ### Testing on train\n",
    "    df_sku['forecast']=results.predict(start='2022-03-05',end ='2022-03-31',dynamic=True)\n",
    "    df_sku[['QTY','forecast']].plot(figsize=(25,5))\n",
    "    plt.title(i)\n",
    "    plt.savefig('./Graphs/' + i+'.png')\n",
    "\n",
    "    ### Forecast and Display\n",
    "    # Add future dates\n",
    "#     future_dates=[df_sku.index[-1]+ DateOffset(weeks=x)for x in range(0,10)]\n",
    "#     future_datest_df=pd.DataFrame(index=future_dates[1:],columns=df_sku.columns)\n",
    "#     future_df=pd.concat([df_sku,future_datest_df])\n",
    "       \n",
    "#     # Forecasts\n",
    "#     future_df = future_df.reset_index()\n",
    "#     future_df[\"forecast\"] = results.forecast(steps=100)\n",
    "\n",
    "#     # final df appended\n",
    "#     _tmp = future_df.copy()\n",
    "#     _tmp['Description'] = i\n",
    "#     _tmp.loc[_tmp.forecast.isna(), 'forecast'] = _tmp['QTY']\n",
    "#     df_forecast = df_forecast.append(_tmp)\n",
    "\n",
    "#     # Plot\n",
    "#     future_df = future_df.set_index(\"index\")\n",
    "#     future_df[['QTY', 'forecast']].plot(figsize=(25, 5))\n",
    "#     plt.savefig('./Graphs/' + i+'.jpeg', bbox_inches='tight', transparent=False, dpi=300)\n",
    "#     plt.title(i)\n",
    "#     plt.show()\n",
    "\n",
    "# df_forecast.to_csv(\"./Graphs/forecasted_data.csv\", index=False)"
   ]
  },
  {
   "cell_type": "code",
   "execution_count": null,
   "metadata": {},
   "outputs": [],
   "source": []
  }
 ],
 "metadata": {
  "interpreter": {
   "hash": "5d68fb8e3eb3ad39a38554280520afb3a59fd8dfcf3c819fb9d1bf433f0d7963"
  },
  "kernelspec": {
   "display_name": "Python 3.9.7 64-bit ('pydev': conda)",
   "language": "python",
   "name": "python3"
  },
  "language_info": {
   "codemirror_mode": {
    "name": "ipython",
    "version": 3
   },
   "file_extension": ".py",
   "mimetype": "text/x-python",
   "name": "python",
   "nbconvert_exporter": "python",
   "pygments_lexer": "ipython3",
   "version": "3.9.7"
  },
  "orig_nbformat": 4
 },
 "nbformat": 4,
 "nbformat_minor": 2
}
